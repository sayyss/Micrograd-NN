{
 "cells": [
  {
   "cell_type": "code",
   "execution_count": 1,
   "id": "7a0b985d-cc62-49b3-a249-cb8071d8a42c",
   "metadata": {},
   "outputs": [],
   "source": [
    "import torch\n",
    "from torch import linalg "
   ]
  },
  {
   "cell_type": "code",
   "execution_count": 2,
   "id": "a2fd9d62-8427-464c-ad4c-1ae563a58141",
   "metadata": {},
   "outputs": [
    {
     "data": {
      "text/plain": [
       "(tensor(5.), tensor(6.), tensor(1.5000), tensor(9.))"
      ]
     },
     "execution_count": 2,
     "metadata": {},
     "output_type": "execute_result"
    }
   ],
   "source": [
    "# addition\n",
    "x = torch.tensor(3.0)\n",
    "y = torch.tensor(2.0)\n",
    "\n",
    "x + y, x * y, x / y, x**y"
   ]
  },
  {
   "cell_type": "code",
   "execution_count": 3,
   "id": "b7cf6c39-4bdf-4bc7-aabb-cbe057d06ea9",
   "metadata": {},
   "outputs": [
    {
     "data": {
      "text/plain": [
       "(tensor([0., 1., 2.]), tensor(3.))"
      ]
     },
     "execution_count": 3,
     "metadata": {},
     "output_type": "execute_result"
    }
   ],
   "source": [
    "x = torch.arange(3, dtype=torch.float32)\n",
    "x, x.sum()"
   ]
  },
  {
   "cell_type": "code",
   "execution_count": 4,
   "id": "e6a25b5c-ca4d-425c-95a1-827a7b442034",
   "metadata": {},
   "outputs": [
    {
     "data": {
      "text/plain": [
       "tensor([[0., 1., 2.],\n",
       "        [3., 4., 5.]])"
      ]
     },
     "execution_count": 4,
     "metadata": {},
     "output_type": "execute_result"
    }
   ],
   "source": [
    "A = torch.arange(6, dtype=torch.float32).reshape(2, 3)\n",
    "A"
   ]
  },
  {
   "cell_type": "code",
   "execution_count": 5,
   "id": "f8d7f47c-bf04-411f-b17c-8d7a75727f13",
   "metadata": {},
   "outputs": [
    {
     "name": "stdout",
     "output_type": "stream",
     "text": [
      "torch.Size([2, 3])\n"
     ]
    },
    {
     "data": {
      "text/plain": [
       "tensor([[0., 1., 2.],\n",
       "        [3., 4., 5.]])"
      ]
     },
     "execution_count": 5,
     "metadata": {},
     "output_type": "execute_result"
    }
   ],
   "source": [
    "print(A.shape)\n",
    "A"
   ]
  },
  {
   "cell_type": "code",
   "execution_count": 6,
   "id": "944e9a8b-39c2-4e19-8a67-18563b094656",
   "metadata": {},
   "outputs": [
    {
     "data": {
      "text/plain": [
       "tensor([[0.0000, 0.3333, 0.6667],\n",
       "        [0.2500, 0.3333, 0.4167]])"
      ]
     },
     "execution_count": 6,
     "metadata": {},
     "output_type": "execute_result"
    }
   ],
   "source": [
    "A/A.sum(axis=1, keepdims=True)"
   ]
  },
  {
   "cell_type": "code",
   "execution_count": 7,
   "id": "1e75a135-b094-4e42-ae1f-38c436bcc8e2",
   "metadata": {},
   "outputs": [
    {
     "data": {
      "text/plain": [
       "tensor([[ 3.],\n",
       "        [12.]])"
      ]
     },
     "execution_count": 7,
     "metadata": {},
     "output_type": "execute_result"
    }
   ],
   "source": [
    "sum_A = A.sum(axis=1, keepdims=True)\n",
    "sum_A"
   ]
  },
  {
   "cell_type": "code",
   "execution_count": null,
   "id": "302baf46-e37d-4dec-89ca-82c26adb9533",
   "metadata": {},
   "outputs": [],
   "source": []
  },
  {
   "cell_type": "code",
   "execution_count": 8,
   "id": "9459c131-c69f-4626-be94-943aefa31093",
   "metadata": {},
   "outputs": [
    {
     "ename": "NameError",
     "evalue": "name 'X' is not defined",
     "output_type": "error",
     "traceback": [
      "\u001b[0;31m---------------------------------------------------------------------------\u001b[0m",
      "\u001b[0;31mNameError\u001b[0m                                 Traceback (most recent call last)",
      "Cell \u001b[0;32mIn[8], line 1\u001b[0m\n\u001b[0;32m----> 1\u001b[0m X\u001b[38;5;241m.\u001b[39msum(axis\u001b[38;5;241m=\u001b[39m\u001b[38;5;241m0\u001b[39m)\n",
      "\u001b[0;31mNameError\u001b[0m: name 'X' is not defined"
     ]
    }
   ],
   "source": [
    "X.sum(axis=0)"
   ]
  },
  {
   "cell_type": "code",
   "execution_count": null,
   "id": "9c2d4cfa-e9e1-4dc5-a8af-e2b400fac11e",
   "metadata": {},
   "outputs": [],
   "source": [
    "X.sum(axis=1)"
   ]
  },
  {
   "cell_type": "code",
   "execution_count": 9,
   "id": "8d2cce1d-52e4-4e93-93c2-8ba36aa91d7c",
   "metadata": {},
   "outputs": [
    {
     "ename": "NameError",
     "evalue": "name 'X' is not defined",
     "output_type": "error",
     "traceback": [
      "\u001b[0;31m---------------------------------------------------------------------------\u001b[0m",
      "\u001b[0;31mNameError\u001b[0m                                 Traceback (most recent call last)",
      "Cell \u001b[0;32mIn[9], line 1\u001b[0m\n\u001b[0;32m----> 1\u001b[0m X\u001b[38;5;241m.\u001b[39msum(axis\u001b[38;5;241m=\u001b[39m\u001b[38;5;241m2\u001b[39m)\n",
      "\u001b[0;31mNameError\u001b[0m: name 'X' is not defined"
     ]
    }
   ],
   "source": [
    "X.sum(axis=2)"
   ]
  },
  {
   "cell_type": "code",
   "execution_count": 28,
   "id": "1e5f676c-09fe-4ef5-bced-de60466249c5",
   "metadata": {},
   "outputs": [
    {
     "data": {
      "text/plain": [
       "tensor(14.4928)"
      ]
     },
     "execution_count": 28,
     "metadata": {},
     "output_type": "execute_result"
    }
   ],
   "source": [
    "linalg.norm(X)"
   ]
  },
  {
   "cell_type": "code",
   "execution_count": 10,
   "id": "bf479d4f-2902-4698-88aa-e6c40d32e44c",
   "metadata": {},
   "outputs": [],
   "source": [
    "A = torch.randn(2**10, 2**16)\n",
    "B = torch.randn(2**16, 2**5)\n",
    "C = torch.randn(2**5, 2**14)\n"
   ]
  },
  {
   "cell_type": "code",
   "execution_count": 11,
   "id": "3c272b34-d2d6-4c72-bfaa-22c69408100b",
   "metadata": {},
   "outputs": [
    {
     "data": {
      "text/plain": [
       "torch.Size([1024, 32])"
      ]
     },
     "execution_count": 11,
     "metadata": {},
     "output_type": "execute_result"
    }
   ],
   "source": [
    "torch.matmul(A,B).shape"
   ]
  },
  {
   "cell_type": "code",
   "execution_count": 12,
   "id": "87d39e8a-b943-497a-a71d-046d6f973d47",
   "metadata": {},
   "outputs": [
    {
     "data": {
      "text/plain": [
       "torch.Size([32, 16384])"
      ]
     },
     "execution_count": 12,
     "metadata": {},
     "output_type": "execute_result"
    }
   ],
   "source": [
    "C.shape"
   ]
  },
  {
   "cell_type": "code",
   "execution_count": 13,
   "id": "5df0d475-1996-4ff9-bcd5-1069e78ec085",
   "metadata": {},
   "outputs": [
    {
     "data": {
      "text/plain": [
       "torch.Size([1024, 16384])"
      ]
     },
     "execution_count": 13,
     "metadata": {},
     "output_type": "execute_result"
    }
   ],
   "source": [
    "torch.matmul(torch.matmul(A,B), C).shape"
   ]
  },
  {
   "cell_type": "code",
   "execution_count": 14,
   "id": "f7ba0cd7-b915-4f87-8408-f1be30aab9a0",
   "metadata": {},
   "outputs": [
    {
     "data": {
      "text/plain": [
       "tensor([[-3284.8647, -2201.9680, -1667.5922,  ...,  1693.3125,   345.2137,\n",
       "          -891.7568],\n",
       "        [  467.6843,  2318.1606,  2634.0837,  ...,   455.5876,   -53.5335,\n",
       "            46.4738],\n",
       "        [   46.1107, -2598.3245,  1976.4624,  ...,   400.4944,  2859.9399,\n",
       "          1801.3655],\n",
       "        ...,\n",
       "        [-2501.7676,  2871.3843, -2678.1204,  ...,  -537.9288,  -890.1832,\n",
       "         -1205.9635],\n",
       "        [ -520.1506, -2426.2834,    10.7511,  ..., -1010.0280, -2079.6445,\n",
       "           693.5912],\n",
       "        [  266.5056,   707.7820, -2418.2136,  ...,   286.4916,   677.3766,\n",
       "          -236.9149]])"
      ]
     },
     "execution_count": 14,
     "metadata": {},
     "output_type": "execute_result"
    }
   ],
   "source": [
    "torch.matmul(torch.matmul(A,B), C)"
   ]
  },
  {
   "cell_type": "code",
   "execution_count": 15,
   "id": "85884f1c-069f-4de5-962c-75c2212fe381",
   "metadata": {},
   "outputs": [
    {
     "data": {
      "text/plain": [
       "torch.Size([65536, 16384])"
      ]
     },
     "execution_count": 15,
     "metadata": {},
     "output_type": "execute_result"
    }
   ],
   "source": [
    "torch.matmul(B,C).shape"
   ]
  },
  {
   "cell_type": "code",
   "execution_count": 16,
   "id": "9f4e76c2-eff4-4c3d-9283-fef5cc418e4f",
   "metadata": {},
   "outputs": [
    {
     "data": {
      "text/plain": [
       "torch.Size([1024, 65536])"
      ]
     },
     "execution_count": 16,
     "metadata": {},
     "output_type": "execute_result"
    }
   ],
   "source": [
    "A.shape"
   ]
  },
  {
   "cell_type": "code",
   "execution_count": 17,
   "id": "93fcffd7-763d-4ed1-bc47-c55bf49883b1",
   "metadata": {},
   "outputs": [
    {
     "data": {
      "text/plain": [
       "torch.Size([1024, 16384])"
      ]
     },
     "execution_count": 17,
     "metadata": {},
     "output_type": "execute_result"
    }
   ],
   "source": [
    "torch.matmul(A, torch.matmul(B,C)).shape"
   ]
  },
  {
   "cell_type": "code",
   "execution_count": 19,
   "id": "642a752d-cd0b-45af-b8bb-81f32dbc7ea7",
   "metadata": {},
   "outputs": [
    {
     "data": {
      "text/plain": [
       "tensor([[-3284.8635, -2201.9678, -1667.5925,  ...,  1693.3123,   345.2130,\n",
       "          -891.7582],\n",
       "        [  467.6850,  2318.1599,  2634.0823,  ...,   455.5884,   -53.5346,\n",
       "            46.4748],\n",
       "        [   46.1105, -2598.3250,  1976.4633,  ...,   400.4951,  2859.9395,\n",
       "          1801.3656],\n",
       "        ...,\n",
       "        [-2501.7661,  2871.3850, -2678.1199,  ...,  -537.9279,  -890.1833,\n",
       "         -1205.9635],\n",
       "        [ -520.1510, -2426.2847,    10.7511,  ..., -1010.0274, -2079.6450,\n",
       "           693.5921],\n",
       "        [  266.5059,   707.7816, -2418.2126,  ...,   286.4914,   677.3776,\n",
       "          -236.9149]])"
      ]
     },
     "execution_count": 19,
     "metadata": {},
     "output_type": "execute_result"
    }
   ],
   "source": [
    "torch.matmul(A, torch.matmul(B,C))"
   ]
  },
  {
   "cell_type": "code",
   "execution_count": 55,
   "id": "745ce42d-0c91-4e24-a9e9-d7bec4f58dac",
   "metadata": {},
   "outputs": [],
   "source": [
    "A = torch.randn(2**10, 2**16)\n",
    "B = torch.randn(2**16, 2**5)\n",
    "C = torch.randn(2**5, 2**16)\n"
   ]
  },
  {
   "cell_type": "code",
   "execution_count": 20,
   "id": "e20563de-5fdb-457d-96bc-171b5996f8ea",
   "metadata": {},
   "outputs": [
    {
     "data": {
      "text/plain": [
       "tensor([[ 275.0225,  -85.5485,  -15.6981,  ...,  235.1223,  110.1394,\n",
       "          -35.9472],\n",
       "        [ -29.3260,  137.1320,  103.7480,  ..., -438.2172,  267.4696,\n",
       "          104.8698],\n",
       "        [ 146.0393,  156.2763,  314.0150,  ...,  216.5195,  147.6075,\n",
       "          347.6027],\n",
       "        ...,\n",
       "        [-189.1582, -352.7052,  117.5308,  ..., -171.8876, -250.0430,\n",
       "          195.1603],\n",
       "        [ 327.5074,   39.7277, -227.5168,  ..., -315.6818, -336.3789,\n",
       "         -356.1294],\n",
       "        [ 221.1636,   90.2099,  109.0862,  ..., -527.6683, -150.5528,\n",
       "         -213.0869]])"
      ]
     },
     "execution_count": 20,
     "metadata": {},
     "output_type": "execute_result"
    }
   ],
   "source": [
    "torch.matmul(A,B)"
   ]
  },
  {
   "cell_type": "code",
   "execution_count": 21,
   "id": "daa0c12d-e2cd-496f-936d-038dff855e48",
   "metadata": {},
   "outputs": [
    {
     "data": {
      "text/plain": [
       "tensor([[ 275.0225,  -85.5485,  -15.6981,  ...,  235.1223,  110.1394,\n",
       "          -35.9472],\n",
       "        [ -29.3260,  137.1320,  103.7480,  ..., -438.2172,  267.4696,\n",
       "          104.8698],\n",
       "        [ 146.0393,  156.2763,  314.0150,  ...,  216.5195,  147.6075,\n",
       "          347.6027],\n",
       "        ...,\n",
       "        [-189.1582, -352.7052,  117.5308,  ..., -171.8876, -250.0430,\n",
       "          195.1603],\n",
       "        [ 327.5074,   39.7277, -227.5168,  ..., -315.6818, -336.3789,\n",
       "         -356.1294],\n",
       "        [ 221.1636,   90.2099,  109.0862,  ..., -527.6683, -150.5528,\n",
       "         -213.0869]])"
      ]
     },
     "execution_count": 21,
     "metadata": {},
     "output_type": "execute_result"
    }
   ],
   "source": [
    "C = B.T\n",
    "torch.matmul(A,C.T)"
   ]
  },
  {
   "cell_type": "code",
   "execution_count": 22,
   "id": "ab62c4a7-828b-40ec-b405-ebee07ac945f",
   "metadata": {},
   "outputs": [
    {
     "data": {
      "text/plain": [
       "torch.Size([65536, 32])"
      ]
     },
     "execution_count": 22,
     "metadata": {},
     "output_type": "execute_result"
    }
   ],
   "source": [
    "C.T.shape"
   ]
  },
  {
   "cell_type": "code",
   "execution_count": 23,
   "id": "a6c69109-71b1-4403-b3ae-8e982b770f80",
   "metadata": {},
   "outputs": [
    {
     "data": {
      "text/plain": [
       "torch.Size([1024, 65536])"
      ]
     },
     "execution_count": 23,
     "metadata": {},
     "output_type": "execute_result"
    }
   ],
   "source": [
    "A.shape"
   ]
  },
  {
   "cell_type": "code",
   "execution_count": 24,
   "id": "e1ad0db9-b383-4977-b576-e02cd03c0734",
   "metadata": {},
   "outputs": [],
   "source": [
    "A = torch.randn(2**10, 2**20)\n",
    "B = torch.randn(2**10, 2**20)\n",
    "C = torch.randn(2**10, 2**20)"
   ]
  },
  {
   "cell_type": "code",
   "execution_count": 25,
   "id": "82cf5829-6b20-4a5d-b63e-4baf6064ab48",
   "metadata": {},
   "outputs": [
    {
     "data": {
      "text/plain": [
       "torch.Size([1024, 1048576])"
      ]
     },
     "execution_count": 25,
     "metadata": {},
     "output_type": "execute_result"
    }
   ],
   "source": [
    "B.shape"
   ]
  },
  {
   "cell_type": "code",
   "execution_count": 26,
   "id": "3dd3773e-de0d-4fb6-9e88-e15ca85ef809",
   "metadata": {},
   "outputs": [],
   "source": [
    "tensor = torch.stack((A,B,C))"
   ]
  },
  {
   "cell_type": "code",
   "execution_count": 27,
   "id": "2fe6b10e-76f9-46b9-bce6-21660596f507",
   "metadata": {},
   "outputs": [
    {
     "data": {
      "text/plain": [
       "torch.Size([3, 1024, 1048576])"
      ]
     },
     "execution_count": 27,
     "metadata": {},
     "output_type": "execute_result"
    }
   ],
   "source": [
    "tensor.shape"
   ]
  },
  {
   "cell_type": "code",
   "execution_count": 28,
   "id": "cea4e0d6-7733-44ca-83ac-f5228ffd5425",
   "metadata": {},
   "outputs": [
    {
     "data": {
      "text/plain": [
       "tensor([[ 0.4971,  1.0003,  0.3834,  ...,  0.4341, -0.9110,  1.1060],\n",
       "        [ 0.9218,  0.5049,  1.0555,  ..., -1.0749, -3.2097, -0.1273],\n",
       "        [-0.7699, -2.2897,  1.5812,  ..., -0.2564, -0.1347,  0.0628],\n",
       "        ...,\n",
       "        [-1.6507,  0.1397, -1.4212,  ..., -0.5175, -0.0439,  0.5409],\n",
       "        [ 0.6202,  0.2403, -0.7238,  ..., -0.0383, -0.2474, -0.7272],\n",
       "        [-1.3233, -0.1735, -1.6258,  ..., -0.4876, -1.3748, -1.4001]])"
      ]
     },
     "execution_count": 28,
     "metadata": {},
     "output_type": "execute_result"
    }
   ],
   "source": [
    "B"
   ]
  },
  {
   "cell_type": "code",
   "execution_count": 30,
   "id": "0794cbf9-1017-4769-934f-2a041bda37ac",
   "metadata": {},
   "outputs": [
    {
     "data": {
      "text/plain": [
       "tensor([[ 0.4971,  1.0003,  0.3834,  ...,  0.4341, -0.9110,  1.1060],\n",
       "        [ 0.9218,  0.5049,  1.0555,  ..., -1.0749, -3.2097, -0.1273],\n",
       "        [-0.7699, -2.2897,  1.5812,  ..., -0.2564, -0.1347,  0.0628],\n",
       "        ...,\n",
       "        [-1.6507,  0.1397, -1.4212,  ..., -0.5175, -0.0439,  0.5409],\n",
       "        [ 0.6202,  0.2403, -0.7238,  ..., -0.0383, -0.2474, -0.7272],\n",
       "        [-1.3233, -0.1735, -1.6258,  ..., -0.4876, -1.3748, -1.4001]])"
      ]
     },
     "execution_count": 30,
     "metadata": {},
     "output_type": "execute_result"
    }
   ],
   "source": [
    "tensor[1]"
   ]
  },
  {
   "cell_type": "code",
   "execution_count": null,
   "id": "4de3b0f8-6981-499e-ae88-ee1a8dc816e1",
   "metadata": {},
   "outputs": [],
   "source": []
  }
 ],
 "metadata": {
  "kernelspec": {
   "display_name": "Python 3 (ipykernel)",
   "language": "python",
   "name": "python3"
  },
  "language_info": {
   "codemirror_mode": {
    "name": "ipython",
    "version": 3
   },
   "file_extension": ".py",
   "mimetype": "text/x-python",
   "name": "python",
   "nbconvert_exporter": "python",
   "pygments_lexer": "ipython3",
   "version": "3.11.7"
  }
 },
 "nbformat": 4,
 "nbformat_minor": 5
}

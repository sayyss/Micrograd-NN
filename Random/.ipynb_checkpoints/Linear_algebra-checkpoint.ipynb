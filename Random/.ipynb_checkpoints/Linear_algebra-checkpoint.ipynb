{
 "cells": [
  {
   "cell_type": "code",
   "execution_count": null,
   "id": "7a0b985d-cc62-49b3-a249-cb8071d8a42c",
   "metadata": {},
   "outputs": [],
   "source": [
    "import torch\n",
    "from torch import linalg "
   ]
  },
  {
   "cell_type": "code",
   "execution_count": null,
   "id": "a2fd9d62-8427-464c-ad4c-1ae563a58141",
   "metadata": {},
   "outputs": [],
   "source": [
    "# addition\n",
    "x = torch.tensor(3.0)\n",
    "y = torch.tensor(2.0)\n",
    "\n",
    "x + y, x * y, x / y, x**y"
   ]
  },
  {
   "cell_type": "code",
   "execution_count": null,
   "id": "b7cf6c39-4bdf-4bc7-aabb-cbe057d06ea9",
   "metadata": {},
   "outputs": [],
   "source": [
    "x = torch.arange(3, dtype=torch.float32)\n",
    "x, x.sum()"
   ]
  },
  {
   "cell_type": "code",
   "execution_count": null,
   "id": "e6a25b5c-ca4d-425c-95a1-827a7b442034",
   "metadata": {},
   "outputs": [],
   "source": [
    "A = torch.arange(6, dtype=torch.float32).reshape(2, 3)\n",
    "A"
   ]
  },
  {
   "cell_type": "code",
   "execution_count": null,
   "id": "f8d7f47c-bf04-411f-b17c-8d7a75727f13",
   "metadata": {},
   "outputs": [],
   "source": [
    "print(A.shape)\n",
    "A"
   ]
  },
  {
   "cell_type": "code",
   "execution_count": null,
   "id": "944e9a8b-39c2-4e19-8a67-18563b094656",
   "metadata": {},
   "outputs": [],
   "source": [
    "A/A.sum(axis=1, keepdims=True)"
   ]
  },
  {
   "cell_type": "code",
   "execution_count": null,
   "id": "1e75a135-b094-4e42-ae1f-38c436bcc8e2",
   "metadata": {},
   "outputs": [],
   "source": [
    "sum_A = A.sum(axis=1, keepdims=True)\n",
    "sum_A"
   ]
  },
  {
   "cell_type": "code",
   "execution_count": null,
   "id": "302baf46-e37d-4dec-89ca-82c26adb9533",
   "metadata": {},
   "outputs": [],
   "source": []
  },
  {
   "cell_type": "code",
   "execution_count": null,
   "id": "9459c131-c69f-4626-be94-943aefa31093",
   "metadata": {},
   "outputs": [],
   "source": [
    "X.sum(axis=0)"
   ]
  },
  {
   "cell_type": "code",
   "execution_count": null,
   "id": "9c2d4cfa-e9e1-4dc5-a8af-e2b400fac11e",
   "metadata": {},
   "outputs": [],
   "source": [
    "X.sum(axis=1)"
   ]
  },
  {
   "cell_type": "code",
   "execution_count": null,
   "id": "8d2cce1d-52e4-4e93-93c2-8ba36aa91d7c",
   "metadata": {},
   "outputs": [],
   "source": [
    "X.sum(axis=2)"
   ]
  },
  {
   "cell_type": "code",
   "execution_count": null,
   "id": "1e5f676c-09fe-4ef5-bced-de60466249c5",
   "metadata": {},
   "outputs": [],
   "source": [
    "linalg.norm(X)"
   ]
  },
  {
   "cell_type": "code",
   "execution_count": null,
   "id": "bf479d4f-2902-4698-88aa-e6c40d32e44c",
   "metadata": {},
   "outputs": [],
   "source": [
    "A = torch.randn(2**10, 2**16)\n",
    "B = torch.randn(2**16, 2**5)\n",
    "C = torch.randn(2**5, 2**14)\n"
   ]
  },
  {
   "cell_type": "code",
   "execution_count": null,
   "id": "3c272b34-d2d6-4c72-bfaa-22c69408100b",
   "metadata": {},
   "outputs": [],
   "source": [
    "torch.matmul(A,B).shape"
   ]
  },
  {
   "cell_type": "code",
   "execution_count": null,
   "id": "87d39e8a-b943-497a-a71d-046d6f973d47",
   "metadata": {},
   "outputs": [],
   "source": [
    "C.shape"
   ]
  },
  {
   "cell_type": "code",
   "execution_count": null,
   "id": "5df0d475-1996-4ff9-bcd5-1069e78ec085",
   "metadata": {},
   "outputs": [],
   "source": [
    "torch.matmul(torch.matmul(A,B), C).shape"
   ]
  },
  {
   "cell_type": "code",
   "execution_count": null,
   "id": "f7ba0cd7-b915-4f87-8408-f1be30aab9a0",
   "metadata": {},
   "outputs": [],
   "source": [
    "torch.matmul(torch.matmul(A,B), C)"
   ]
  },
  {
   "cell_type": "code",
   "execution_count": null,
   "id": "85884f1c-069f-4de5-962c-75c2212fe381",
   "metadata": {},
   "outputs": [],
   "source": [
    "torch.matmul(B,C).shape"
   ]
  },
  {
   "cell_type": "code",
   "execution_count": null,
   "id": "9f4e76c2-eff4-4c3d-9283-fef5cc418e4f",
   "metadata": {},
   "outputs": [],
   "source": [
    "A.shape"
   ]
  },
  {
   "cell_type": "code",
   "execution_count": null,
   "id": "93fcffd7-763d-4ed1-bc47-c55bf49883b1",
   "metadata": {},
   "outputs": [],
   "source": [
    "torch.matmul(A, torch.matmul(B,C)).shape"
   ]
  },
  {
   "cell_type": "code",
   "execution_count": null,
   "id": "642a752d-cd0b-45af-b8bb-81f32dbc7ea7",
   "metadata": {},
   "outputs": [],
   "source": [
    "torch.matmul(A, torch.matmul(B,C))"
   ]
  },
  {
   "cell_type": "code",
   "execution_count": null,
   "id": "745ce42d-0c91-4e24-a9e9-d7bec4f58dac",
   "metadata": {},
   "outputs": [],
   "source": [
    "A = torch.randn(2**10, 2**16)\n",
    "B = torch.randn(2**16, 2**5)\n",
    "C = torch.randn(2**5, 2**16)\n"
   ]
  },
  {
   "cell_type": "code",
   "execution_count": null,
   "id": "e20563de-5fdb-457d-96bc-171b5996f8ea",
   "metadata": {},
   "outputs": [],
   "source": [
    "torch.matmul(A,B)"
   ]
  },
  {
   "cell_type": "code",
   "execution_count": null,
   "id": "daa0c12d-e2cd-496f-936d-038dff855e48",
   "metadata": {},
   "outputs": [],
   "source": [
    "C = B.T\n",
    "torch.matmul(A,C.T)"
   ]
  },
  {
   "cell_type": "code",
   "execution_count": null,
   "id": "ab62c4a7-828b-40ec-b405-ebee07ac945f",
   "metadata": {},
   "outputs": [],
   "source": [
    "C.T.shape"
   ]
  },
  {
   "cell_type": "code",
   "execution_count": null,
   "id": "a6c69109-71b1-4403-b3ae-8e982b770f80",
   "metadata": {},
   "outputs": [],
   "source": [
    "A.shape"
   ]
  },
  {
   "cell_type": "code",
   "execution_count": null,
   "id": "e1ad0db9-b383-4977-b576-e02cd03c0734",
   "metadata": {},
   "outputs": [],
   "source": [
    "A = torch.randn(2**10, 2**20)\n",
    "B = torch.randn(2**10, 2**20)\n",
    "C = torch.randn(2**10, 2**20)"
   ]
  },
  {
   "cell_type": "code",
   "execution_count": null,
   "id": "82cf5829-6b20-4a5d-b63e-4baf6064ab48",
   "metadata": {},
   "outputs": [],
   "source": [
    "B.shape"
   ]
  },
  {
   "cell_type": "code",
   "execution_count": null,
   "id": "3dd3773e-de0d-4fb6-9e88-e15ca85ef809",
   "metadata": {},
   "outputs": [],
   "source": [
    "tensor = torch.stack((A,B,C))"
   ]
  },
  {
   "cell_type": "code",
   "execution_count": null,
   "id": "2fe6b10e-76f9-46b9-bce6-21660596f507",
   "metadata": {},
   "outputs": [],
   "source": [
    "tensor.shape"
   ]
  },
  {
   "cell_type": "code",
   "execution_count": null,
   "id": "cea4e0d6-7733-44ca-83ac-f5228ffd5425",
   "metadata": {},
   "outputs": [],
   "source": [
    "B"
   ]
  },
  {
   "cell_type": "code",
   "execution_count": null,
   "id": "0794cbf9-1017-4769-934f-2a041bda37ac",
   "metadata": {},
   "outputs": [],
   "source": [
    "tensor[1]"
   ]
  },
  {
   "cell_type": "code",
   "execution_count": null,
   "id": "4de3b0f8-6981-499e-ae88-ee1a8dc816e1",
   "metadata": {},
   "outputs": [],
   "source": []
  },
  {
   "cell_type": "code",
   "execution_count": null,
   "id": "1c3b2471-4435-4125-b302-765d61c3560e",
   "metadata": {},
   "outputs": [],
   "source": [
    "# Autodiff on single var functions"
   ]
  },
  {
   "cell_type": "code",
   "execution_count": null,
   "id": "5e87810c-9f2e-4cae-94b7-1c3d6212248e",
   "metadata": {},
   "outputs": [],
   "source": []
  },
  {
   "cell_type": "code",
   "execution_count": null,
   "id": "11d603c3-99f6-47e2-bc8b-c13dfa84cba2",
   "metadata": {},
   "outputs": [],
   "source": []
  },
  {
   "cell_type": "code",
   "execution_count": null,
   "id": "c7ad5a58-cc70-41ee-8f2e-730045c7fdb0",
   "metadata": {},
   "outputs": [],
   "source": []
  }
 ],
 "metadata": {
  "kernelspec": {
   "display_name": "Python 3 (ipykernel)",
   "language": "python",
   "name": "python3"
  },
  "language_info": {
   "codemirror_mode": {
    "name": "ipython",
    "version": 3
   },
   "file_extension": ".py",
   "mimetype": "text/x-python",
   "name": "python",
   "nbconvert_exporter": "python",
   "pygments_lexer": "ipython3",
   "version": "3.11.7"
  }
 },
 "nbformat": 4,
 "nbformat_minor": 5
}

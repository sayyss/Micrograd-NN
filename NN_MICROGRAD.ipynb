{
 "cells": [
  {
   "cell_type": "code",
   "execution_count": 7,
   "id": "6062dee7-0af5-4a05-b31f-040e1c529989",
   "metadata": {},
   "outputs": [],
   "source": [
    "import math\n",
    "import numpy as np\n",
    "import matplotlib.pyplot as plt\n",
    "import random\n",
    "%matplotlib inline"
   ]
  },
  {
   "cell_type": "code",
   "execution_count": 8,
   "id": "b1fd6b1e-6adb-48bf-ab62-4c540bc768c6",
   "metadata": {},
   "outputs": [],
   "source": [
    "from micrograd.engine import Value\n",
    "from graphviz import Digraph\n",
    "\n",
    "def trace(root):\n",
    "  # builds a set of all nodes and edges in a graph\n",
    "  nodes, edges = set(), set()\n",
    "  def build(v):\n",
    "    if v not in nodes:\n",
    "      nodes.add(v)\n",
    "      for child in v._prev:\n",
    "        edges.add((child, v))\n",
    "        build(child)\n",
    "  build(root)\n",
    "  return nodes, edges\n",
    "\n",
    "def draw_dot(root):\n",
    "  dot = Digraph(format='svg', graph_attr={'rankdir': 'LR'}) # LR = left to right\n",
    "  \n",
    "  nodes, edges = trace(root)\n",
    "  for n in nodes:\n",
    "    uid = str(id(n))\n",
    "    # for any value in the graph, create a rectangular ('record') node for it\n",
    "    dot.node(name = uid, label = \"{ %s | data %.4f | grad %.4f }\" % (n.label, n.data, n.grad), shape='record')\n",
    "    if n._op:\n",
    "      # if this value is a result of some operation, create an op node for it\n",
    "      dot.node(name = uid + n._op, label = n._op)\n",
    "      # and connect this node to it\n",
    "      dot.edge(uid + n._op, uid)\n",
    "\n",
    "  for n1, n2 in edges:\n",
    "    # connect n1 to the op node of n2\n",
    "    dot.edge(str(id(n1)), str(id(n2)) + n2._op)\n",
    "\n",
    "  return dot"
   ]
  },
  {
   "cell_type": "code",
   "execution_count": 9,
   "id": "4a4e4698-539f-49ef-b22a-374268f011b4",
   "metadata": {},
   "outputs": [],
   "source": [
    "class Value:\n",
    "    def __init__(self, data, _children=(), _op='', label=\"\"):\n",
    "        self.data = data\n",
    "        self._prev = set(_children) # _children -> tuple, set of tuples\n",
    "        self._op = _op\n",
    "        self.label = label\n",
    "        self.grad = 0.0\n",
    "        self._backward = lambda: None\n",
    "        \n",
    "    def __repr__(self):\n",
    "        return f\"Value(data={self.data})\"\n",
    "        \n",
    "    def __add__(self, other):\n",
    "\n",
    "        if not isinstance(other, Value):\n",
    "            other = Value(other)\n",
    "            \n",
    "        out = Value(self.data + other.data, (self, other), \"+\")\n",
    "\n",
    "        def _backward():\n",
    "            self.grad += 1.0 * out.grad\n",
    "            other.grad += 1.0 * out.grad\n",
    "            \n",
    "        out._backward = _backward\n",
    "        \n",
    "        return out\n",
    "\n",
    "    def __mul__(self, other):\n",
    "\n",
    "        if not isinstance(other, Value):\n",
    "            other = Value(other)\n",
    "            \n",
    "        out = Value(self.data * other.data, (self, other), \"*\")\n",
    "\n",
    "        def _backward():\n",
    "            self.grad += other.data * out.grad\n",
    "            other.grad += self.data * out.grad\n",
    "\n",
    "        out._backward = _backward\n",
    "        \n",
    "        return out\n",
    "\n",
    "\n",
    "    def __pow__(self, other):\n",
    "        assert isinstance(other, (int, float)), \"only supports int/float\"\n",
    "        out = Value(self.data**other, (self,), f'**{other}')\n",
    "        \n",
    "        def _backward():\n",
    "            self.grad += other * self.data ** (other-1) * out.grad\n",
    "        out._backward = _backward\n",
    "        \n",
    "        return out\n",
    "        \n",
    "    def tanh(self):\n",
    "        x = self.data\n",
    "        t = (math.exp(2*x) - 1) / (math.exp(2*x) + 1)\n",
    "        out = Value(t, (self, ), \"tanh\")\n",
    "\n",
    "        def _backward():\n",
    "            self.grad = (1 - t**2) * out.grad\n",
    "            \n",
    "        out._backward = _backward\n",
    "        return out\n",
    "\n",
    "    def exp(self):\n",
    "        x = self.data\n",
    "        out = Value(math.exp(x), (self,), 'exp')\n",
    "        \n",
    "        def _backward():\n",
    "            self.grad += out.data * out.grad\n",
    "        out._backward = _backward\n",
    "\n",
    "\n",
    "    def backward(self):\n",
    "        topo = []\n",
    "        visited = set()\n",
    "        def build_topo(v):\n",
    "            if v not in visited:\n",
    "                visited.add(v)\n",
    "                for child in v._prev:\n",
    "                    build_topo(child)\n",
    "                topo.append(v)\n",
    "        build_topo(self)\n",
    "\n",
    "        self.grad = 1.0\n",
    "        for node in reversed(topo):\n",
    "            node._backward()\n",
    "    \n",
    "    def __truediv__(self, other):\n",
    "        return self * other**-1\n",
    "        \n",
    "    def __neg__(self):\n",
    "        return self * -1\n",
    "        \n",
    "    def __sub__(self, other):\n",
    "        return self + (-other)\n",
    "        \n",
    "    def __rmul__(self, other):\n",
    "        return self * other\n",
    "        \n",
    "    def __radd__(self, other):\n",
    "        return self + other"
   ]
  },
  {
   "cell_type": "code",
   "execution_count": 10,
   "id": "683b3480-edc2-47a7-baaf-fde97166e54a",
   "metadata": {},
   "outputs": [
    {
     "data": {
      "image/png": "[encoded data removed]",
      "text/plain": [
       "<Figure size 640x480 with 1 Axes>"
      ]
     },
     "metadata": {},
     "output_type": "display_data"
    }
   ],
   "source": [
    "import matplotlib.image as mpimg\n",
    "image = mpimg.imread(\"mlp.png\")\n",
    "plt.imshow(image)\n",
    "plt.show()"
   ]
  },
  {
   "cell_type": "code",
   "execution_count": 11,
   "id": "787da68d-aee0-4e4b-ba80-0fe3e1f7c661",
   "metadata": {},
   "outputs": [],
   "source": [
    "class Neuron: \n",
    "\n",
    "    def __init__(self, nin):\n",
    "        # w -> randomly generated weights\n",
    "        # b -> bias\n",
    "        self.w = [Value(random.uniform(-1,1)) for _ in range(nin)]\n",
    "        self.b = Value(random.uniform(-1,1))\n",
    "        \n",
    "    def __call__(self, x):\n",
    "        # w * x + b\n",
    "        # sum(iterations, start(start at bias instead of 0))\n",
    "        #print(len(x))\n",
    "        #print(\"weights:\",len(self.w))\n",
    "        act = sum((wi*xi for wi,xi in zip(self.w, x)), self.b)\n",
    "        out = act.tanh()\n",
    "\n",
    "        return out\n",
    "        \n",
    "    def parameters(self):\n",
    "        return self.w + [self.b]\n",
    "        \n",
    "class Layer:\n",
    "\n",
    "    def __init__(self, nin, nout):\n",
    "        self.neurons = [Neuron(nin) for _ in range(nout)]\n",
    "\n",
    "    def __call__(self, x):\n",
    "        # calls n(x) for each neuron in layer -> putting x into each neuron and storing results\n",
    "        outs = [n(x) for n in self.neurons]\n",
    "        return outs[0] if len(outs) == 1 else outs\n",
    "        \n",
    "    def parameters(self):\n",
    "        params = []\n",
    "        for neuron in self.neurons:\n",
    "            local_params = neuron.parameters()\n",
    "            params.extend(local_params)\n",
    "        return params\n",
    "        \n",
    "class MLP:\n",
    "\n",
    "    def __init__(self, nin, nouts):\n",
    "        sz = [nin] + nouts\n",
    "        self.layers = []\n",
    "        \n",
    "        for i in range(len(nouts)):\n",
    "            #print(sz[i], sz[i+1])\n",
    "            self.layers.append(Layer(sz[i], sz[i+1]))\n",
    "            # i becomes num of input, i+1 is number of output\n",
    "\n",
    "        #self.layers = [Layer(sz[i], sz[i+1]) for i in range(len(nouts))]\n",
    "\n",
    "    def parameters(self):\n",
    "        params = []\n",
    "        for layer in self.layers:\n",
    "            layer_params = layer.parameters()\n",
    "            params.extend(layer_params)\n",
    "        \n",
    "        return params\n",
    "        \n",
    "    def __call__(self, x):\n",
    "        for layer in self.layers:\n",
    "           #print(len(x))\n",
    "            #print(x)\n",
    "            x = layer(x)\n",
    "        return x\n",
    "    \n",
    "        "
   ]
  },
  {
   "cell_type": "code",
   "execution_count": 12,
   "id": "69e5f81f-d6e0-40d4-8400-761687ec5550",
   "metadata": {},
   "outputs": [],
   "source": [
    "x = [2.0, 3.0, -1.0]\n",
    "nn = MLP(3,[4,4,1])\n",
    "out = nn(x)"
   ]
  },
  {
   "cell_type": "code",
   "execution_count": 13,
   "id": "7acc201c-cbd4-4e03-b41e-006043b9f698",
   "metadata": {},
   "outputs": [
    {
     "data": {
      "text/plain": [
       "[Value(data=0.8973962330576697),\n",
       " Value(data=-0.14585796498201886),\n",
       " Value(data=-0.7308517288136709),\n",
       " Value(data=0.5343184389613806),\n",
       " Value(data=-0.9236420909513345),\n",
       " Value(data=-0.18046645223069024),\n",
       " Value(data=-0.7195886052390024),\n",
       " Value(data=-0.10483320395504148),\n",
       " Value(data=0.27454362799401877),\n",
       " Value(data=0.2634748329902179),\n",
       " Value(data=0.6247059232037047),\n",
       " Value(data=-0.41970051541987363),\n",
       " Value(data=0.11561619346376895),\n",
       " Value(data=-0.8738724628569023),\n",
       " Value(data=0.8917704777651345),\n",
       " Value(data=0.6981644764162749),\n",
       " Value(data=0.028962654473361438),\n",
       " Value(data=0.82973757057676),\n",
       " Value(data=0.8919761262254808),\n",
       " Value(data=-0.676329782460904),\n",
       " Value(data=0.7440515084954566),\n",
       " Value(data=0.0011398229971908425),\n",
       " Value(data=0.5466289574031074),\n",
       " Value(data=0.23254402036458743),\n",
       " Value(data=-0.9676256758487654),\n",
       " Value(data=0.005187839444056763),\n",
       " Value(data=-0.017022654508980217),\n",
       " Value(data=-0.2467510370887107),\n",
       " Value(data=-0.06467466960693424),\n",
       " Value(data=0.20195365933620524),\n",
       " Value(data=-0.4815315291213371),\n",
       " Value(data=-0.976078831719037),\n",
       " Value(data=0.5747088418863089),\n",
       " Value(data=0.3649291756561681),\n",
       " Value(data=0.2837670384322626),\n",
       " Value(data=0.6993941600947902),\n",
       " Value(data=0.24947378818706945),\n",
       " Value(data=-0.7118777092146173),\n",
       " Value(data=0.37578385208980114),\n",
       " Value(data=-0.4291988881261801),\n",
       " Value(data=-0.8029153688766779)]"
      ]
     },
     "execution_count": 13,
     "metadata": {},
     "output_type": "execute_result"
    }
   ],
   "source": [
    "nn.parameters()"
   ]
  },
  {
   "cell_type": "code",
   "execution_count": null,
   "id": "4a7dd72e-3b25-4b8a-b403-21ca270eb8c5",
   "metadata": {},
   "outputs": [],
   "source": []
  },
  {
   "cell_type": "code",
   "execution_count": 14,
   "id": "1a9bec57-0d41-459b-b374-fd7a25bd867a",
   "metadata": {},
   "outputs": [],
   "source": [
    "# tiny dataset\n",
    "xs = [\n",
    "  [2.0, 3.0, -1.0],\n",
    "  [3.0, -1.0, 0.5],\n",
    "  [0.5, 1.0, 1.0],\n",
    "  [1.0, 1.0, -1.0],\n",
    "]\n",
    "ys = [1.0, -1.0, -1.0, 1.0] # desired targets"
   ]
  },
  {
   "cell_type": "code",
   "execution_count": 15,
   "id": "48bf75f3-2b5e-413f-9e33-3304da30ccb5",
   "metadata": {},
   "outputs": [
    {
     "data": {
      "text/plain": [
       "[Value(data=-0.6661420369396146),\n",
       " Value(data=-0.1189661959727495),\n",
       " Value(data=-0.46183110671674465),\n",
       " Value(data=-0.6709627928284373)]"
      ]
     },
     "execution_count": 15,
     "metadata": {},
     "output_type": "execute_result"
    }
   ],
   "source": [
    "ypred = [nn(x) for x in xs]\n",
    "ypred"
   ]
  },
  {
   "cell_type": "code",
   "execution_count": 16,
   "id": "f1d58db4-e87e-4c7f-9dc3-8151e72af820",
   "metadata": {},
   "outputs": [
    {
     "data": {
      "text/plain": [
       "Value(data=6.633992263810751)"
      ]
     },
     "execution_count": 16,
     "metadata": {},
     "output_type": "execute_result"
    }
   ],
   "source": [
    "loss = sum([(yout - ygt)**2 for ygt, yout in zip(ys, ypred)])\n",
    "loss"
   ]
  },
  {
   "cell_type": "code",
   "execution_count": 17,
   "id": "b60fd560-f383-449a-ac65-42026522aa9e",
   "metadata": {},
   "outputs": [
    {
     "data": {
      "text/plain": [
       "0.0"
      ]
     },
     "execution_count": 17,
     "metadata": {},
     "output_type": "execute_result"
    }
   ],
   "source": [
    "nn.layers[0].neurons[0].w[0].grad"
   ]
  },
  {
   "cell_type": "code",
   "execution_count": 18,
   "id": "441f1d97-018f-4a16-9b4e-fd7e6c60edd7",
   "metadata": {},
   "outputs": [
    {
     "data": {
      "text/plain": [
       "0.8973962330576697"
      ]
     },
     "execution_count": 18,
     "metadata": {},
     "output_type": "execute_result"
    }
   ],
   "source": [
    "nn.layers[0].neurons[0].w[0].data"
   ]
  },
  {
   "cell_type": "code",
   "execution_count": 19,
   "id": "4741b469-2ea4-41c0-a74a-5d92758d9ab0",
   "metadata": {},
   "outputs": [],
   "source": [
    "loss.backward()"
   ]
  },
  {
   "cell_type": "code",
   "execution_count": 20,
   "id": "625b00fe-1e66-46c9-9e84-9568bc54c726",
   "metadata": {},
   "outputs": [],
   "source": [
    "for p in nn.parameters():\n",
    "    p.data += +0.01 * p.grad"
   ]
  },
  {
   "cell_type": "code",
   "execution_count": 21,
   "id": "89ff1ddb-6142-4523-9951-56f074770fc6",
   "metadata": {},
   "outputs": [
    {
     "data": {
      "text/plain": [
       "Value(data=7.1432740189946315)"
      ]
     },
     "execution_count": 21,
     "metadata": {},
     "output_type": "execute_result"
    }
   ],
   "source": [
    "ypred = [nn(x) for x in xs]\n",
    "loss = sum([(yout - ygt)**2 for ygt, yout in zip(ys, ypred)])\n",
    "loss"
   ]
  },
  {
   "cell_type": "code",
   "execution_count": 22,
   "id": "fb68ec15-4d81-428a-a654-85d50834a045",
   "metadata": {},
   "outputs": [
    {
     "data": {
      "text/plain": [
       "[Value(data=-0.7292137775753685),\n",
       " Value(data=-0.08674334288950164),\n",
       " Value(data=-0.43328388191427036),\n",
       " Value(data=-0.7314412638560264)]"
      ]
     },
     "execution_count": 22,
     "metadata": {},
     "output_type": "execute_result"
    }
   ],
   "source": [
    "ypred"
   ]
  },
  {
   "cell_type": "code",
   "execution_count": 23,
   "id": "f8e16bd6-dcb1-415c-8c72-f1d68364418a",
   "metadata": {},
   "outputs": [
    {
     "name": "stdout",
     "output_type": "stream",
     "text": [
      "epoch:  0 loss:  7.1432740189946315\n",
      "epoch:  1 loss:  6.680932818030314\n",
      "epoch:  2 loss:  6.15452854019194\n",
      "epoch:  3 loss:  5.544602683919461\n",
      "epoch:  4 loss:  4.854044010965371\n",
      "epoch:  5 loss:  4.124557676125184\n",
      "epoch:  6 loss:  3.4317420923423336\n",
      "epoch:  7 loss:  2.8434213655720217\n",
      "epoch:  8 loss:  2.380929873489227\n",
      "epoch:  9 loss:  2.026359667264793\n"
     ]
    }
   ],
   "source": [
    "\n",
    "# Training loop\n",
    "epoch = 10\n",
    "step = -0.01\n",
    "for k in range(epoch):\n",
    "\n",
    "    # forward pass\n",
    "    ypred = [nn(x) for x in xs]\n",
    "    loss = sum([(yout - ygt)**2 for ygt, yout in zip(ys, ypred)])\n",
    "\n",
    "    # zero grad\n",
    "    for p in nn.parameters():\n",
    "        p.grad = 0.0\n",
    "    \n",
    "    # backward pass\n",
    "    loss.backward()\n",
    "\n",
    "    # Update\n",
    "    for p in nn.parameters():\n",
    "        p.data += -0.01 * p.grad\n",
    "\n",
    "    print(\"epoch: \",k, \"loss: \",loss.data)\n",
    "    "
   ]
  },
  {
   "cell_type": "code",
   "execution_count": 24,
   "id": "11abfefc-0999-4bc7-aee8-b3a88d25fc98",
   "metadata": {},
   "outputs": [
    {
     "data": {
      "text/plain": [
       "[Value(data=0.24184626600398498),\n",
       " Value(data=-0.24042950118587406),\n",
       " Value(data=-0.6144475846230275),\n",
       " Value(data=0.14796445190301175)]"
      ]
     },
     "execution_count": 24,
     "metadata": {},
     "output_type": "execute_result"
    }
   ],
   "source": [
    "ypred"
   ]
  },
  {
   "cell_type": "code",
   "execution_count": null,
   "id": "1988d165-0167-41c3-a4a5-e17306282114",
   "metadata": {},
   "outputs": [],
   "source": []
  }
 ],
 "metadata": {
  "kernelspec": {
   "display_name": "Python 3 (ipykernel)",
   "language": "python",
   "name": "python3"
  },
  "language_info": {
   "codemirror_mode": {
    "name": "ipython",
    "version": 3
   },
   "file_extension": ".py",
   "mimetype": "text/x-python",
   "name": "python",
   "nbconvert_exporter": "python",
   "pygments_lexer": "ipython3",
   "version": "3.11.7"
  }
 },
 "nbformat": 4,
 "nbformat_minor": 5
}
